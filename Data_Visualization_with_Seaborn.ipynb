{
  "nbformat": 4,
  "nbformat_minor": 0,
  "metadata": {
    "colab": {
      "name": "Data_Visualization_with_Seaborn.ipynb",
      "provenance": [],
      "authorship_tag": "ABX9TyMVtmmkwHzPke1hyTcxm/1D",
      "include_colab_link": true
    },
    "kernelspec": {
      "name": "python3",
      "display_name": "Python 3"
    }
  },
  "cells": [
    {
      "cell_type": "markdown",
      "metadata": {
        "id": "view-in-github",
        "colab_type": "text"
      },
      "source": [
        "<a href=\"https://colab.research.google.com/github/bei-github/Data-Visualization/blob/master/Data_Visualization_with_Seaborn.ipynb\" target=\"_parent\"><img src=\"https://colab.research.google.com/assets/colab-badge.svg\" alt=\"Open In Colab\"/></a>"
      ]
    },
    {
      "cell_type": "code",
      "metadata": {
        "id": "CoOq1pce_8R4",
        "colab_type": "code",
        "colab": {
          "base_uri": "https://localhost:8080/",
          "height": 72
        },
        "outputId": "6554e585-687b-46b3-b896-ed64bf387446"
      },
      "source": [
        "import pandas as pd \n",
        "import matplotlib.pyplot as plt \n",
        "%matplotlib inline\n",
        "import seaborn as sns "
      ],
      "execution_count": 1,
      "outputs": [
        {
          "output_type": "stream",
          "text": [
            "/usr/local/lib/python3.6/dist-packages/statsmodels/tools/_testing.py:19: FutureWarning: pandas.util.testing is deprecated. Use the functions in the public API at pandas.testing instead.\n",
            "  import pandas.util.testing as tm\n"
          ],
          "name": "stderr"
        }
      ]
    },
    {
      "cell_type": "code",
      "metadata": {
        "id": "PXd_KwvFARKg",
        "colab_type": "code",
        "colab": {}
      },
      "source": [
        "# read the data\n",
        "# index_col: column to use as row labels\n",
        "# parse_dates: recognize the row labels as dates\n",
        "fifa_filepath=\"../input/fifa.csv\"\n",
        "fifa_data=pd.read_csv(fifa_filepath, index_col=\"Date\", parse_dates=True)\n",
        "\n",
        "# plot the data\n",
        "# set the width and height of the figure\n",
        "plt.figure(figsize=(16,6))\n",
        "\n",
        "# line chart showing how FIFA ranking evolved over time\n",
        "# make a line chart\n",
        "sns.lineplot(data=fifa_data)\n",
        "# make a bar charts\n",
        "#sns.barplot\n",
        "# make a heatmaps\n",
        "# sns.heatmap"
      ],
      "execution_count": null,
      "outputs": []
    },
    {
      "cell_type": "code",
      "metadata": {
        "id": "XxaszS27AZM2",
        "colab_type": "code",
        "colab": {}
      },
      "source": [
        "############line chart##############\n",
        "# load data \n",
        "spotify_filepath=\"../input/spotify.csv\"\n",
        "spotify_data=pd.read_csv(spotify_filepath, index_col=\"Date\", parse_dates=True)\n",
        "plt.figure(figsize=(14,6))\n",
        "plt.title(\"Daily Global Streams of Popular Songs in 2017-2018\")\n",
        "sns.lineplot(data=spotify_data)\n",
        "list(spotify_data.columns)\n",
        "# line chart showing set of data\n",
        "sns.lineplot(data=spotify_data['Shape of You'], label=\"Shape of you\")\n",
        "plt.xlabel(\"Date\")\n"
      ],
      "execution_count": null,
      "outputs": []
    },
    {
      "cell_type": "code",
      "metadata": {
        "id": "tUDoI967AeA8",
        "colab_type": "code",
        "colab": {}
      },
      "source": [
        "##############bar chart#################\n",
        "# load data\n",
        "flight_filepath=\"../input/flight_delay.csv\"\n",
        "flight_data=pd.read_csv(flight_filepath, index_col=\"Month\")\n",
        "# set the width and height of the figure\n",
        "plt.figure(figsize=(10,6))\n",
        "# add title\n",
        "plt.title(\"Average Arrival Delay for Spirit Airlines Fights\")\n",
        "# bar chart showing \n",
        "sns.barplot(x=flight_data.index, y=flight_data['NK'])\n",
        "# add label for vertical axis\n",
        "plt.ylabel(\"Arrival delay(in minites)\")\n",
        "\n",
        "# .loc[] return the values of dataframe have an index labeled 2\n",
        "# .iloc[] return the values of dataframe at index '2'\n",
        "# get the maximum value of index labeled PC\n",
        "high_score=max(flight_data.loc['PC'])\n",
        "# return the column name contains minimum value of index labeled PC\n",
        "low_score=(flight_data.loc['PC']).idxmin()"
      ],
      "execution_count": null,
      "outputs": []
    },
    {
      "cell_type": "code",
      "metadata": {
        "id": "JNAdpk67AiF0",
        "colab_type": "code",
        "colab": {}
      },
      "source": [
        "############## heat map #####################\n",
        "# set the width and height of figure\n",
        "plt.figure(figsize=(14,7))\n",
        "# add title\n",
        "plt.title(\"Average Arrival Delay for Spirit Airlines Fights\")\n",
        "# heatmap showing, annot=True ensures that the values for each cell appear on the chart\n",
        "sns.heatmap(data=flight_data, annot=True)\n",
        "# add label for horizontal axis\n",
        "plt.xlabel(\"Airline\")\n"
      ],
      "execution_count": null,
      "outputs": []
    },
    {
      "cell_type": "code",
      "metadata": {
        "id": "DMe6WvVNAl38",
        "colab_type": "code",
        "colab": {}
      },
      "source": [
        "################### scatter plot ####################\n",
        "sns.scatterplot(x=flight_data['PC'], y=flight_data['NK'])\n",
        "# add a regression line\n",
        "sns.regplot(x=flight_data['PC'], y=flight_data['NK'])\n",
        "# colored plot \n",
        "sns.scatterplot(x=flight_data['PC'], y=flight_data['NK'], hue=flight_data['Wii'])\n",
        "# add two regression lines\n",
        "sns.lmplot(x=\"PC\", y=\"NK\", hue=\"Wii\", data=flight_data)\n",
        "# categorical scatter plot\n",
        "sns.swarmplot(x=flight_data['PC'], y=flight_data['NK'])\n",
        "\n",
        "# Fill in the line below: Which candy was more popular with survey respondents:\n",
        "# '3 Musketeers' or 'Almond Joy'?  (Please enclose your answer in single quotes.)\n",
        "d=candy_data[0:5]\n",
        "more_popular = candy_data.loc[d['winpercent'].idxmax()]['competitorname']\n"
      ],
      "execution_count": null,
      "outputs": []
    },
    {
      "cell_type": "code",
      "metadata": {
        "id": "XsQsWQ2XApaW",
        "colab_type": "code",
        "colab": {}
      },
      "source": [
        "################## histogram plot #############\n",
        "sns.distplot(a=iris_data['Petal Length (cm)'], kde=False)\n",
        "# kernel density estimate (KDE) plot, smooth plot\n",
        "sns.kdeplot(data=iris_data['Petal Length (cm)'], shade=True)\n",
        "# two-dimensional (2D) KDE plot with the sns.jointplot command.\n",
        "# color-coding shows us how likely we are to see different combinations of sepal width and petal length\n",
        "# where darker parts of the figure are more likely."
      ],
      "execution_count": null,
      "outputs": []
    }
  ]
}